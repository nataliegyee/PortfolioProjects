{
 "cells": [
  {
   "cell_type": "code",
   "execution_count": 20,
   "id": "59823e59-eb8c-48d5-9fad-378201a1ad8d",
   "metadata": {
    "tags": []
   },
   "outputs": [
    {
     "name": "stdin",
     "output_type": "stream",
     "text": [
      "Enter your name:  Natalie\n",
      "Enter your weight in pounds:  110\n",
      "Enter your height in inches:  64\n"
     ]
    },
    {
     "name": "stdout",
     "output_type": "stream",
     "text": [
      "18.87939453125\n",
      "Natalie, you are normal weight. Maintain your healthy weight by having a balanced diet and exercising regularly.\n"
     ]
    }
   ],
   "source": [
    "name = input(\"Enter your name: \")\n",
    "\n",
    "weight = int(input(\"Enter your weight in pounds: \"))\n",
    "\n",
    "height = int(input(\"Enter your height in inches: \"))\n",
    "\n",
    "BMI = (weight * 703) / (height * height)\n",
    "\n",
    "print(BMI)\n",
    "\n",
    "if BMI>0:\n",
    "    if(BMI<18.5):\n",
    "        print(name +\", you are underwight. Consider meeting with a healthcare professional to ensure you maintain a balanced, nourishing diet.\")\n",
    "    elif (BMI<=24.9):\n",
    "        print(name +\", you are normal weight. Maintain your healthy weight by having a balanced diet and exercising regularly.\")\n",
    "    elif (BMI<29.9):\n",
    "        print(name +\", you are overweight. Implementing lifestyle changes such as exercising more and having a balanced diet can help you achieve a healthier weight.\")\n",
    "    elif (BMI<34.9):\n",
    "        print(name +\", you are obese. In addition to making lifestyle changes such as exercising more and having a balanced diet, consider seeking professional medical advice.\")\n",
    "    elif (BMI<39.9):\n",
    "        print(name +\", you are severely obese. In addition to making lifestyle changes such as exercising more and having a balanced diet, consider seeking professional medical advice.\")\n",
    "    else:\n",
    "        print(name +\", you are morbidly obese. Implement lifestyle changes like exercising more and having a balanced diet, and seek medical supervision.\")\n",
    "else:\n",
    "    print(\"Enter valid input\")"
   ]
  },
  {
   "cell_type": "code",
   "execution_count": null,
   "id": "ada3007a-eac6-45c4-bb1b-6d1d8b50b1bc",
   "metadata": {},
   "outputs": [],
   "source": []
  },
  {
   "cell_type": "code",
   "execution_count": null,
   "id": "3b4c7609-7033-4d47-9fcb-a6b376a6f861",
   "metadata": {},
   "outputs": [],
   "source": []
  },
  {
   "cell_type": "code",
   "execution_count": null,
   "id": "f75f604c-42e1-41f0-895e-ab9f85484601",
   "metadata": {},
   "outputs": [],
   "source": []
  },
  {
   "cell_type": "code",
   "execution_count": null,
   "id": "82be441f-3c2f-4c58-a6fd-487c1c6a0a1d",
   "metadata": {},
   "outputs": [],
   "source": [
    "#BMI = (weight in pounds x 703) / (height in inches x height in inches)"
   ]
  },
  {
   "cell_type": "code",
   "execution_count": null,
   "id": "9a1da857-264d-41cd-ae48-073f506d04e0",
   "metadata": {},
   "outputs": [],
   "source": [
    "print(weight)"
   ]
  },
  {
   "cell_type": "code",
   "execution_count": null,
   "id": "aa90ca43-2b13-4d90-980a-344f5b8e70ee",
   "metadata": {},
   "outputs": [],
   "source": [
    "Under 18.5\tUnderweight\tMinimal\n",
    "18.5 - 24.9\tNormal Weight\tMinimal\n",
    "25 - 29.9\tOverweight\tIncreased\n",
    "30 - 34.9\tObese\tHigh\n",
    "35 - 39.9\tSeverely Obese\tVery High\n",
    "40 and over\tMorbidly Obese\tExtremely High"
   ]
  },
  {
   "cell_type": "code",
   "execution_count": 21,
   "id": "37e46174-517f-491d-8451-bf5dd7585db3",
   "metadata": {
    "tags": []
   },
   "outputs": [
    {
     "name": "stdout",
     "output_type": "stream",
     "text": [
      "Natalie, you are normal weight.\n"
     ]
    }
   ],
   "source": [
    "if BMI>0:\n",
    "    if(BMI<18.5):\n",
    "        print(name +\", you are underwight.\")\n",
    "    elif (BMI<=24.9):\n",
    "        print(name +\", you are normal weight.\")\n",
    "    elif (BMI<29.9):\n",
    "        print(name +\", you are overweight. You need to exercise more and stop sitting and writing so many python tutorials.\")\n",
    "    elif (BMI<34.9):\n",
    "        print(name +\", you are obese.\")\n",
    "    elif (BMI<39.9):\n",
    "        print(name +\", you are severely obese.\")\n",
    "else:\n",
    "        print(name +\", you are morbidly obese.\")"
   ]
  }
 ],
 "metadata": {
  "kernelspec": {
   "display_name": "Python 3 (ipykernel)",
   "language": "python",
   "name": "python3"
  },
  "language_info": {
   "codemirror_mode": {
    "name": "ipython",
    "version": 3
   },
   "file_extension": ".py",
   "mimetype": "text/x-python",
   "name": "python",
   "nbconvert_exporter": "python",
   "pygments_lexer": "ipython3",
   "version": "3.11.3"
  }
 },
 "nbformat": 4,
 "nbformat_minor": 5
}
